{
 "cells": [
  {
   "cell_type": "code",
   "execution_count": 4,
   "id": "073c5c2d-cb0b-4a4c-bd31-c79a6c6fafe8",
   "metadata": {
    "tags": []
   },
   "outputs": [],
   "source": [
    "import pandas as pd"
   ]
  },
  {
   "cell_type": "code",
   "execution_count": 5,
   "id": "70c8a9ce-f1dc-403a-9977-ea8dac0083f1",
   "metadata": {
    "tags": []
   },
   "outputs": [],
   "source": [
    "data = pd.read_csv(\"manual_company_data.csv\")"
   ]
  },
  {
   "cell_type": "code",
   "execution_count": 8,
   "id": "b5d17e9e-677c-4170-ad45-085df378cb36",
   "metadata": {
    "tags": []
   },
   "outputs": [
    {
     "name": "stdout",
     "output_type": "stream",
     "text": [
      "['company_name', 'last_price', 'NYSE', 'last_delayed', 'VWAP_delayed', 'open', 'previous_close', 'day_high_low', '52_week_high_low', 'beta_3y', 'market_cap_m_dollar', 'total_enterprise_value_m_dollar', 'volume', 'avg_3m_daily_volume', 'shares_out', 'float_%', 'inst._ownership_%', 'shares_sold_short', 'short_int/shout_%', 'div._yield_%', 'status', 'topic_tags', 'LEI', 'date_of_incorporation', 'SIC_code', 'NACE_code', 'NAICS_code', 'company_description', 'as_of_date', 'headquarters', 'phone', 'web_address', 'ceo', 'cfo_and_vp_finance', 'total_revenue_$000_2022', 'total_revenue_$000_2023', 'total_revenue_$000_2024', 'EBITDA_$000_2022', 'EBITDA_$000_2023', 'EBITDA_$000_2024', 'EBIT_$000_2022', 'EBIT_$000_2023', 'EBIT_$000_2024', 'net_income_$000_2022', 'net_income_$000_2023', 'net_income_$000_2024', 'capital_expenditure_$000_2022', 'capital_expenditure_$000_2023', 'capital_expenditure_$000_2024', 'total_assets_$000_2022', 'total_assets_$000_2023', 'total_assets_$000_2024', 'total_liabilities_$000_2022', 'total_liabilities_$000_2023', 'total_liabilities_$000_2024', 'total_equity_$000_2022', 'total_equity_$000_2023', 'total_equity_$000_2024', 'cash_&_short_term_investments_$000_2022', 'cash_&_short_term_investments_$000_2023', 'cash_&_short_term_investments_$000_2024', 'net_debt_$000_2022', 'net_debt_$000_2023', 'net_debt_$000_2024', 'book_value_per_share_$_2022', 'book_value_per_share_$_2023', 'book_value_per_share_$_2024', 'return_on_assets_$_2022', 'return_on_assets_$_2023', 'return_on_assets_$_2024', 'return_on_equity_$_2022', 'return_on_equity_$_2023', 'return_on_equity_$_2024', 'latest_total_asset_$', 'latest_total_liabilities_$', 'latest_total_debt_$', 'latest_total_cash_$', 'latest_total_equity_$', 'latest_book_value_per_share_$_', 'latest_EBITDA', 'bookvalue_method=totalassets_totalliabilities', 'enterprisevalue=debt+equity_cash', ' EV/EBITDA', 'p/ltm_eps_(x)', 'p/ntm_eps_(x)', 'price/book_(x)', 'price/tang_book_(x)', 'tev/ltm_total_revenue_(x)', 'tev/ltm_ebitda_(x)', 'total_debt/ebitda_(x)', 'p/ltm_eps_(x)_normalized', 'p/ntm_eps_(x)_normalized', 'price/book_(x)_normalized', 'price/tang_book_(x)_normalized', 'tev/ltm_total_revenue_(x)_normalized', 'tev/ltm_ebitda_(x)_normalized', 'total_debt/ebitda_(x)_normalized', 'p/ltm_eps_(x)_ranked', 'p/ntm_eps_(x)_ranked', 'price/book_(x)_ranked', 'price/tang_book_(x)_ranked', 'tev/ltm_total_revenue_(x)_ranked', 'tev/ltm_ebitda_(x)_ranked', 'total_debt/ebitda_(x)_ranked', 'average_Rank']\n"
     ]
    }
   ],
   "source": [
    "print(data.columns.to_list())"
   ]
  },
  {
   "cell_type": "code",
   "execution_count": null,
   "id": "85b984c9-8c3c-4cdc-a79f-932de2cf00d9",
   "metadata": {},
   "outputs": [],
   "source": []
  }
 ],
 "metadata": {
  "kernelspec": {
   "display_name": "Python 3 (ipykernel)",
   "language": "python",
   "name": "python3"
  },
  "language_info": {
   "codemirror_mode": {
    "name": "ipython",
    "version": 3
   },
   "file_extension": ".py",
   "mimetype": "text/x-python",
   "name": "python",
   "nbconvert_exporter": "python",
   "pygments_lexer": "ipython3",
   "version": "3.11.7"
  }
 },
 "nbformat": 4,
 "nbformat_minor": 5
}
