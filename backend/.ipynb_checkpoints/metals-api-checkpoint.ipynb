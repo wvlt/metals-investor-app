{
 "cells": [
  {
   "cell_type": "code",
   "execution_count": 26,
   "id": "01fb594c-5d96-4927-8ae7-c2bbd32313df",
   "metadata": {},
   "outputs": [],
   "source": [
    "import requests\n",
    "import pandas as pd\n",
    "from datetime import datetime, timedelta\n",
    "from tqdm import tqdm\n",
    "import os"
   ]
  },
  {
   "cell_type": "code",
   "execution_count": 27,
   "id": "55341d3e-c896-4ced-ac09-357d8b26ea09",
   "metadata": {
    "tags": []
   },
   "outputs": [],
   "source": [
    "access_key = 'hhelvd5q21i41sc03275i61u1d2tfc71btux2f5j8zuu1uvnz0497z569yu8'\n",
    "base_currency = 'USD'\n",
    "symbol = 'LITHIUM'\n",
    "csv_file = \"lithium_historical_prices.csv\""
   ]
  },
  {
   "cell_type": "code",
   "execution_count": 28,
   "id": "a9632cea-942d-414e-8278-ca75da859a79",
   "metadata": {
    "tags": []
   },
   "outputs": [
    {
     "name": "stderr",
     "output_type": "stream",
     "text": [
      "Fetching data week by week: 100%|██████████| 82/82 [00:52<00:00,  1.57it/s]\n"
     ]
    }
   ],
   "source": [
    "import requests\n",
    "import pandas as pd\n",
    "from datetime import datetime, timedelta\n",
    "from tqdm import tqdm\n",
    "\n",
    "# Configuration\n",
    "base_currency = 'USD'\n",
    "symbol = 'LITHIUM'\n",
    "access_key = 'hhelvd5q21i41sc03275i61u1d2tfc71btux2f5j8zuu1uvnz0497z569yu8'\n",
    "start_date = datetime(2023, 1, 1)\n",
    "end_date = datetime.today()\n",
    "endpoint = 'timeseries'\n",
    "\n",
    "# Prepare for iteration\n",
    "all_data = []\n",
    "total_weeks = (end_date - start_date).days // 7 + 1\n",
    "current_start_date = start_date\n",
    "\n",
    "# Iterate week by week with a progress bar\n",
    "for _ in tqdm(range(total_weeks), desc=\"Fetching data week by week\"):\n",
    "    current_end_date = current_start_date + timedelta(days=1)  # 2-day range for each API call\n",
    "    start_str = current_start_date.strftime('%Y-%m-%d')\n",
    "    end_str = current_end_date.strftime('%Y-%m-%d')\n",
    "    \n",
    "    # Make the API call\n",
    "    url = f'https://metals-api.com/api/{endpoint}?access_key={access_key}&base={base_currency}&symbols={symbol}&start_date={start_str}&end_date={end_str}'\n",
    "    response = requests.get(url)\n",
    "    data = response.json()\n",
    "    \n",
    "    # Check if the response contains rates data\n",
    "    if 'rates' in data:\n",
    "        rates = data['rates']\n",
    "        for date, rate_info in rates.items():\n",
    "            if symbol in rate_info:\n",
    "                all_data.append({\n",
    "                    'date': date,\n",
    "                    'symbol': symbol,\n",
    "                    'currency': base_currency,\n",
    "                    'price': rate_info[symbol]\n",
    "                })\n",
    "    \n",
    "    # Move to the next week\n",
    "    current_start_date += timedelta(weeks=1)\n",
    "\n",
    "# Create a DataFrame from the collected data\n",
    "df = pd.DataFrame(all_data)\n",
    "df.to_csv('lithium_historical_prices.csv', index=False)\n"
   ]
  },
  {
   "cell_type": "code",
   "execution_count": null,
   "id": "e8bd872f-29ec-42c6-b06d-0ed23b28368b",
   "metadata": {},
   "outputs": [],
   "source": []
  }
 ],
 "metadata": {
  "kernelspec": {
   "display_name": "Python 3 (ipykernel)",
   "language": "python",
   "name": "python3"
  },
  "language_info": {
   "codemirror_mode": {
    "name": "ipython",
    "version": 3
   },
   "file_extension": ".py",
   "mimetype": "text/x-python",
   "name": "python",
   "nbconvert_exporter": "python",
   "pygments_lexer": "ipython3",
   "version": "3.11.7"
  }
 },
 "nbformat": 4,
 "nbformat_minor": 5
}
